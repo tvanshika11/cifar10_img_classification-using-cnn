{
  "nbformat": 4,
  "nbformat_minor": 0,
  "metadata": {
    "colab": {
      "name": "Untitled8.ipynb",
      "provenance": [],
      "collapsed_sections": [],
      "authorship_tag": "ABX9TyMrQyXZmPMx4Gx0+Ah5G+eX",
      "include_colab_link": true
    },
    "kernelspec": {
      "name": "python3",
      "display_name": "Python 3"
    },
    "language_info": {
      "name": "python"
    }
  },
  "cells": [
    {
      "cell_type": "markdown",
      "metadata": {
        "id": "view-in-github",
        "colab_type": "text"
      },
      "source": [
        "<a href=\"https://colab.research.google.com/github/tvanshika11/cifar10_img_classification-using-cnn/blob/main/Untitled8.ipynb\" target=\"_parent\"><img src=\"https://colab.research.google.com/assets/colab-badge.svg\" alt=\"Open In Colab\"/></a>"
      ]
    },
    {
      "cell_type": "code",
      "metadata": {
        "colab": {
          "base_uri": "https://localhost:8080/"
        },
        "id": "nuGdTD4sPg3z",
        "outputId": "0a839a80-06a3-4ec8-8da6-305046b1d753"
      },
      "source": [
        "from __future__ import print_function\n",
        "import numpy as np\n",
        "import warnings\n",
        "from keras.models import Model\n",
        "from keras.layers import Flatten\n",
        "from keras.layers import Dense\n",
        "from keras.layers import Input\n",
        "from keras.layers import Conv2D\n",
        "from keras.layers import MaxPooling2D\n",
        "from keras.layers import GlobalMaxPooling2D\n",
        "from keras.layers import GlobalAveragePooling2D\n",
        "from keras.preprocessing import image\n",
        "from keras.utils import layer_utils\n",
        "from keras.utils.data_utils import get_file\n",
        "from keras import backend as K\n",
        "from keras.applications.imagenet_utils import decode_predictions\n",
        "from keras.applications.imagenet_utils import preprocess_input\n",
        "import keras\n",
        "!pip install keras_applications\n",
        "from keras_applications.imagenet_utils import _obtain_input_shape\n",
        "from keras.engine.topology import get_source_inputs\n"
      ],
      "execution_count": 3,
      "outputs": [
        {
          "output_type": "stream",
          "text": [
            "Requirement already satisfied: keras_applications in /usr/local/lib/python3.7/dist-packages (1.0.8)\n",
            "Requirement already satisfied: numpy>=1.9.1 in /usr/local/lib/python3.7/dist-packages (from keras_applications) (1.19.5)\n",
            "Requirement already satisfied: h5py in /usr/local/lib/python3.7/dist-packages (from keras_applications) (3.1.0)\n",
            "Requirement already satisfied: cached-property; python_version < \"3.8\" in /usr/local/lib/python3.7/dist-packages (from h5py->keras_applications) (1.5.2)\n"
          ],
          "name": "stdout"
        }
      ]
    },
    {
      "cell_type": "code",
      "metadata": {
        "id": "p3EpcCi0ZAeJ"
      },
      "source": [
        "def VGGupdated(input_tensor=None,classes=2):\n",
        "  img_rows,img_cols = 300,300\n",
        "  img_channels = 3\n",
        "  img_dim = (img_rows,img_cols,img_channels)\n",
        "  img_input = Input(shape=img_dim)\n",
        "\n",
        "  #Block1\n",
        "  x = Conv2D(64, (3,3), activation='relu', padding='same', name='block1_conv1')(img_input)\n",
        "  x = Conv2D(64, (3,3), activation='relu', padding='same', name='block1_conv2')(x)\n",
        "  x = MaxPooling2D((2,2), strides=(2,2), name='block1_pool')(x)\n",
        "\n",
        "  #Block2\n",
        "  x = Conv2D(128, (3,3), activation='relu', padding='same', name='block2_conv1')(img_input)\n",
        "  x = Conv2D(128, (3,3), activation='relu', padding='same', name='block2_conv2')(x)\n",
        "  x = MaxPooling2D((2,2), strides=(2,2), name='block2_pool')(x)\n",
        "\n",
        "  #Block3\n",
        "  x = Conv2D(256, (3,3), activation='relu', padding='same', name='block3_conv1')(img_input)\n",
        "  x = Conv2D(256, (3,3), activation='relu', padding='same', name='block3_conv2')(x)\n",
        "  x = Conv2D(256, (3,3), activation='relu', padding='same', name='block3_conv3')(x)\n",
        "  x = MaxPooling2D((2,2), strides=(2,2), name='block3_pool')(x)\n",
        "\n",
        "  #Block4\n",
        "  x = Conv2D(512, (3,3), activation='relu', padding='same', name='block4_conv1')(img_input)\n",
        "  x = Conv2D(512, (3,3), activation='relu', padding='same', name='block4_conv2')(x)\n",
        "  x = Conv2D(512, (3,3), activation='relu', padding='same', name='block4_conv3')(x)\n",
        "  x = MaxPooling2D((2,2), strides=(2,2), name='block4_pool')(x)\n",
        "\n",
        "  #Block5\n",
        "  x = Conv2D(512, (3,3), activation='relu', padding='same', name='block2_conv1')(img_input)\n",
        "  x = Conv2D(512, (3,3), activation='relu', padding='same', name='block2_conv2')(x)\n",
        "  x = Conv2D(512, (3,3), activation='relu', padding='same', name='block3_conv3')(x)\n",
        "  x = MaxPooling2D((2,2), strides=(2,2), name='block2_pool')(x)\n",
        "\n",
        "  #classification blocks\n",
        "  x = Flatten(name='flatten')(x)\n",
        "  x = Dense(4096, activation='relu', name='fc1')(x)\n",
        "  x = Dense(4096, activation='relu', name='fc2')(x)\n",
        "  x = Dense(classes, activation='softmax', name='predictions')(x)\n",
        "\n",
        "  #create model\n",
        "  model = Model(inputs = img_input, outputs = x,name='VGGdemo')\n",
        "  return model\n",
        "  \n",
        "\n",
        "\n"
      ],
      "execution_count": 4,
      "outputs": []
    },
    {
      "cell_type": "code",
      "metadata": {
        "id": "q9T--kkkfhja"
      },
      "source": [
        "model = VGGupdated(classes=2)"
      ],
      "execution_count": null,
      "outputs": []
    },
    {
      "cell_type": "code",
      "metadata": {
        "id": "Xlw3-0QjfuTp"
      },
      "source": [
        "model.compile(optimizer='adam',loss='categorical_crossentropy',metrics=['accuracy'])"
      ],
      "execution_count": null,
      "outputs": []
    },
    {
      "cell_type": "code",
      "metadata": {
        "id": "y6yka02QgKZY"
      },
      "source": [
        ""
      ],
      "execution_count": null,
      "outputs": []
    }
  ]
}